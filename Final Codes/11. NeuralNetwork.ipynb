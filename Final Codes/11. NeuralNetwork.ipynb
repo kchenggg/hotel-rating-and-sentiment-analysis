{
  "cells": [
    {
      "cell_type": "code",
      "execution_count": null,
      "metadata": {
        "id": "LH_Qvf2jcWfD"
      },
      "outputs": [],
      "source": [
        "import numpy as np\n",
        "import pandas as pd\n",
        "from sklearn.model_selection import GridSearchCV\n",
        "from sklearn.metrics import mean_squared_error, mean_absolute_error, r2_score\n",
        "from sklearn.neural_network import MLPRegressor"
      ]
    },
    {
      "cell_type": "code",
      "execution_count": null,
      "metadata": {
        "colab": {
          "base_uri": "https://localhost:8080/"
        },
        "id": "oO0o6p4YepdA",
        "outputId": "045d95a2-0789-4aa1-f8b7-31adf486ed79"
      },
      "outputs": [
        {
          "output_type": "stream",
          "name": "stdout",
          "text": [
            "Mounted at /content/drive\n"
          ]
        }
      ],
      "source": [
        "from google.colab import drive\n",
        "drive.mount('/content/drive')"
      ]
    },
    {
      "cell_type": "code",
      "execution_count": null,
      "metadata": {
        "id": "VMCHFMiyoX5V"
      },
      "outputs": [],
      "source": [
        "HotelReview = pd.read_csv(\"/content/drive/MyDrive/BAP Project/Datasets/Final Datasets/Hotel_Cleaned.csv\")\n",
        "HotelTrain = pd.read_csv(\"/content/drive/MyDrive/BAP Project/Datasets/Final Datasets/train_set.csv\")\n",
        "HotelTest = pd.read_csv(\"/content/drive/MyDrive/BAP Project/Datasets/Final Datasets/test_set.csv\")"
      ]
    },
    {
      "cell_type": "code",
      "source": [
        "# For code testing\n",
        "CodeTest = HotelReview.sample(n=1000, random_state=42)"
      ],
      "metadata": {
        "id": "R04eTM6JpSES"
      },
      "execution_count": null,
      "outputs": []
    },
    {
      "cell_type": "code",
      "source": [
        "# Preprocess data for NN\n",
        "def data_preprocessing(df):\n",
        "    df['Log_WordCount'] = np.log(df['Reviews_WordCount'])\n",
        "    df = df.drop(['Hotel','Titles','Reviews','Dates','No_of_Reviews',\\\n",
        "                  'Reviews_WordCount', 'Rating',\n",
        "                  'Address','Sentiment_Pos','Sentiment_Neg','Sentiment_Neu',\\\n",
        "                  'Sentiment','Year'], axis = 1)\n",
        "    df = pd.get_dummies(df, columns = ['Travel_Type','Hotel_Class'],\n",
        "                        drop_first = True)\n",
        "    return df"
      ],
      "metadata": {
        "id": "ahRDEcY2ngF3"
      },
      "execution_count": null,
      "outputs": []
    },
    {
      "cell_type": "code",
      "source": [
        "def neural_network(X_train, X_test, y_train, y_test):\n",
        "    # define parameter grid for hyperparameter tuning\n",
        "    param_grid = {\n",
        "        'hidden_layer_sizes': [(50,50), (50,50),\n",
        "                               (100,80,70), (90,60,40), (50,30,20),\n",
        "                               (50,50,30,30), (50,30,30,10)],\n",
        "        'activation': ['relu', 'tanh'],\n",
        "        'alpha': [0.0001, 0.001, 0.01],\n",
        "        'max_iter': [20, 30, 40]\n",
        "    }\n",
        "\n",
        "    model = MLPRegressor(random_state=42)\n",
        "\n",
        "    # create grid search object\n",
        "    grid_search = GridSearchCV(model, param_grid=param_grid,\n",
        "                               cv=5,\n",
        "                               scoring='neg_mean_squared_error',\n",
        "                               n_jobs=-1)\n",
        "\n",
        "    # fit grid search on training data\n",
        "    grid_search.fit(X_train, y_train)\n",
        "\n",
        "    # get best parameters and model\n",
        "    best_params = grid_search.best_params_\n",
        "    best_model = grid_search.best_estimator_\n",
        "    print('Best Hyperparameters:', best_params)\n",
        "\n",
        "    # Fit the model on the training data and make predictions on the test data\n",
        "    best_model.fit(X_train, y_train)\n",
        "    y_pred = best_model.predict(X_test)\n",
        "\n",
        "    # Calculate the testing accuracy score\n",
        "    test_score = best_model.score(X_test, y_test)\n",
        "    print(\"Accuracy Score:\", test_score)\n",
        "\n",
        "    # predict on test data using best model\n",
        "    y_pred = best_model.predict(X_test)\n",
        "\n",
        "    # calculate performance metrics\n",
        "    rmse = np.sqrt(mean_squared_error(y_test, y_pred))\n",
        "    mae = mean_absolute_error(y_test, y_pred)\n",
        "    r2 = r2_score(y_test, y_pred)\n",
        "\n",
        "    # print results\n",
        "    print('R2:', r2)\n",
        "    print('RMSE:', rmse)\n",
        "    print('MAE:', mae)"
      ],
      "metadata": {
        "id": "iUFw7dQnEe5C"
      },
      "execution_count": null,
      "outputs": []
    },
    {
      "cell_type": "code",
      "source": [
        "# This is the actual one. It can take pretty long to run.\n",
        "HotelTrain_Processed = data_preprocessing(HotelTrain)\n",
        "HotelTest_Processed = data_preprocessing(HotelTest)\n",
        "\n",
        "y_train = HotelTrain_Processed['Sentiment_Compound']\n",
        "x_train = HotelTrain_Processed.drop(['Sentiment_Compound'], axis = 1)\n",
        "y_test = HotelTest_Processed['Sentiment_Compound']\n",
        "x_test = HotelTest_Processed.drop(['Sentiment_Compound'], axis = 1)\n",
        "\n",
        "neural_network(x_train, x_test, y_train, y_test)"
      ],
      "metadata": {
        "id": "UYQP4YHuq1ho",
        "colab": {
          "base_uri": "https://localhost:8080/"
        },
        "outputId": "4e530786-10a0-4340-8214-ca048a950c11"
      },
      "execution_count": null,
      "outputs": [
        {
          "output_type": "stream",
          "name": "stderr",
          "text": [
            "/usr/local/lib/python3.10/dist-packages/sklearn/neural_network/_multilayer_perceptron.py:686: ConvergenceWarning: Stochastic Optimizer: Maximum iterations (30) reached and the optimization hasn't converged yet.\n",
            "  warnings.warn(\n"
          ]
        },
        {
          "output_type": "stream",
          "name": "stdout",
          "text": [
            "Best Hyperparameters: {'activation': 'relu', 'alpha': 0.01, 'hidden_layer_sizes': (50, 50, 30, 30), 'max_iter': 30}\n"
          ]
        },
        {
          "output_type": "stream",
          "name": "stderr",
          "text": [
            "/usr/local/lib/python3.10/dist-packages/sklearn/neural_network/_multilayer_perceptron.py:686: ConvergenceWarning: Stochastic Optimizer: Maximum iterations (30) reached and the optimization hasn't converged yet.\n",
            "  warnings.warn(\n"
          ]
        },
        {
          "output_type": "stream",
          "name": "stdout",
          "text": [
            "Accuracy Score: 0.4323090712616796\n",
            "R2: 0.4323090712616796\n",
            "RMSE: 0.33999879051839405\n",
            "MAE: 0.19586726571007837\n"
          ]
        }
      ]
    }
  ],
  "metadata": {
    "colab": {
      "provenance": []
    },
    "kernelspec": {
      "display_name": "Python 3",
      "name": "python3"
    },
    "language_info": {
      "name": "python"
    },
    "gpuClass": "standard"
  },
  "nbformat": 4,
  "nbformat_minor": 0
}