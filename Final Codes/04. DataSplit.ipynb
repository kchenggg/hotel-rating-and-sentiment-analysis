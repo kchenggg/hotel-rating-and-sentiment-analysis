{
  "cells": [
    {
      "cell_type": "markdown",
      "source": [
        "# Importing the dataset"
      ],
      "metadata": {
        "id": "IhcijMf0SIL9"
      }
    },
    {
      "cell_type": "code",
      "source": [
        "import pandas as pd\n",
        "\n",
        "from google.colab import drive\n",
        "drive.mount('/content/drive')\n",
        "\n",
        "HotelReview = pd.read_csv(\"/content/drive/MyDrive/BAP Project/Datasets/Final Datasets/Hotel Reviews Enhanced Dataset (Latest).csv\")\n",
        "HotelReview = HotelReview.drop([\"Unnamed: 0\"], axis=1)\n",
        "HotelReview['Year'] = HotelReview['Dates'].str.strip().str[-4:]\n",
        "HotelReview = HotelReview[HotelReview['Year'].astype(float) >= 2007]\n",
        "\n",
        "print (len(HotelReview.index))\n",
        "print(HotelReview.info())\n",
        "print(HotelReview.head())\n"
      ],
      "metadata": {
        "colab": {
          "base_uri": "https://localhost:8080/",
          "height": 399
        },
        "id": "hV4w2JqSJ6RP",
        "outputId": "054d3086-23bd-40f7-db5c-469e951bf0ae"
      },
      "execution_count": null,
      "outputs": [
        {
          "output_type": "error",
          "ename": "KeyboardInterrupt",
          "evalue": "ignored",
          "traceback": [
            "\u001b[0;31m---------------------------------------------------------------------------\u001b[0m",
            "\u001b[0;31mKeyboardInterrupt\u001b[0m                         Traceback (most recent call last)",
            "\u001b[0;32m<ipython-input-1-fbc19e005345>\u001b[0m in \u001b[0;36m<cell line: 4>\u001b[0;34m()\u001b[0m\n\u001b[1;32m      2\u001b[0m \u001b[0;34m\u001b[0m\u001b[0m\n\u001b[1;32m      3\u001b[0m \u001b[0;32mfrom\u001b[0m \u001b[0mgoogle\u001b[0m\u001b[0;34m.\u001b[0m\u001b[0mcolab\u001b[0m \u001b[0;32mimport\u001b[0m \u001b[0mdrive\u001b[0m\u001b[0;34m\u001b[0m\u001b[0;34m\u001b[0m\u001b[0m\n\u001b[0;32m----> 4\u001b[0;31m \u001b[0mdrive\u001b[0m\u001b[0;34m.\u001b[0m\u001b[0mmount\u001b[0m\u001b[0;34m(\u001b[0m\u001b[0;34m'/content/drive'\u001b[0m\u001b[0;34m)\u001b[0m\u001b[0;34m\u001b[0m\u001b[0;34m\u001b[0m\u001b[0m\n\u001b[0m\u001b[1;32m      5\u001b[0m \u001b[0;34m\u001b[0m\u001b[0m\n\u001b[1;32m      6\u001b[0m \u001b[0mHotelReview\u001b[0m \u001b[0;34m=\u001b[0m \u001b[0mpd\u001b[0m\u001b[0;34m.\u001b[0m\u001b[0mread_csv\u001b[0m\u001b[0;34m(\u001b[0m\u001b[0;34m\"/content/drive/MyDrive/BAP Project/Datasets/Final Datasets/Hotel Reviews Enhanced Dataset (Latest).csv\"\u001b[0m\u001b[0;34m)\u001b[0m\u001b[0;34m\u001b[0m\u001b[0;34m\u001b[0m\u001b[0m\n",
            "\u001b[0;32m/usr/local/lib/python3.9/dist-packages/google/colab/drive.py\u001b[0m in \u001b[0;36mmount\u001b[0;34m(mountpoint, force_remount, timeout_ms, readonly)\u001b[0m\n\u001b[1;32m    101\u001b[0m \u001b[0;32mdef\u001b[0m \u001b[0mmount\u001b[0m\u001b[0;34m(\u001b[0m\u001b[0mmountpoint\u001b[0m\u001b[0;34m,\u001b[0m \u001b[0mforce_remount\u001b[0m\u001b[0;34m=\u001b[0m\u001b[0;32mFalse\u001b[0m\u001b[0;34m,\u001b[0m \u001b[0mtimeout_ms\u001b[0m\u001b[0;34m=\u001b[0m\u001b[0;36m120000\u001b[0m\u001b[0;34m,\u001b[0m \u001b[0mreadonly\u001b[0m\u001b[0;34m=\u001b[0m\u001b[0;32mFalse\u001b[0m\u001b[0;34m)\u001b[0m\u001b[0;34m:\u001b[0m\u001b[0;34m\u001b[0m\u001b[0;34m\u001b[0m\u001b[0m\n\u001b[1;32m    102\u001b[0m   \u001b[0;34m\"\"\"Mount your Google Drive at the specified mountpoint path.\"\"\"\u001b[0m\u001b[0;34m\u001b[0m\u001b[0;34m\u001b[0m\u001b[0m\n\u001b[0;32m--> 103\u001b[0;31m   return _mount(\n\u001b[0m\u001b[1;32m    104\u001b[0m       \u001b[0mmountpoint\u001b[0m\u001b[0;34m,\u001b[0m\u001b[0;34m\u001b[0m\u001b[0;34m\u001b[0m\u001b[0m\n\u001b[1;32m    105\u001b[0m       \u001b[0mforce_remount\u001b[0m\u001b[0;34m=\u001b[0m\u001b[0mforce_remount\u001b[0m\u001b[0;34m,\u001b[0m\u001b[0;34m\u001b[0m\u001b[0;34m\u001b[0m\u001b[0m\n",
            "\u001b[0;32m/usr/local/lib/python3.9/dist-packages/google/colab/drive.py\u001b[0m in \u001b[0;36m_mount\u001b[0;34m(mountpoint, force_remount, timeout_ms, ephemeral, readonly)\u001b[0m\n\u001b[1;32m    130\u001b[0m   )\n\u001b[1;32m    131\u001b[0m   \u001b[0;32mif\u001b[0m \u001b[0mephemeral\u001b[0m\u001b[0;34m:\u001b[0m\u001b[0;34m\u001b[0m\u001b[0;34m\u001b[0m\u001b[0m\n\u001b[0;32m--> 132\u001b[0;31m     _message.blocking_request(\n\u001b[0m\u001b[1;32m    133\u001b[0m         \u001b[0;34m'request_auth'\u001b[0m\u001b[0;34m,\u001b[0m \u001b[0mrequest\u001b[0m\u001b[0;34m=\u001b[0m\u001b[0;34m{\u001b[0m\u001b[0;34m'authType'\u001b[0m\u001b[0;34m:\u001b[0m \u001b[0;34m'dfs_ephemeral'\u001b[0m\u001b[0;34m}\u001b[0m\u001b[0;34m,\u001b[0m \u001b[0mtimeout_sec\u001b[0m\u001b[0;34m=\u001b[0m\u001b[0;32mNone\u001b[0m\u001b[0;34m\u001b[0m\u001b[0;34m\u001b[0m\u001b[0m\n\u001b[1;32m    134\u001b[0m     )\n",
            "\u001b[0;32m/usr/local/lib/python3.9/dist-packages/google/colab/_message.py\u001b[0m in \u001b[0;36mblocking_request\u001b[0;34m(request_type, request, timeout_sec, parent)\u001b[0m\n\u001b[1;32m    174\u001b[0m       \u001b[0mrequest_type\u001b[0m\u001b[0;34m,\u001b[0m \u001b[0mrequest\u001b[0m\u001b[0;34m,\u001b[0m \u001b[0mparent\u001b[0m\u001b[0;34m=\u001b[0m\u001b[0mparent\u001b[0m\u001b[0;34m,\u001b[0m \u001b[0mexpect_reply\u001b[0m\u001b[0;34m=\u001b[0m\u001b[0;32mTrue\u001b[0m\u001b[0;34m\u001b[0m\u001b[0;34m\u001b[0m\u001b[0m\n\u001b[1;32m    175\u001b[0m   )\n\u001b[0;32m--> 176\u001b[0;31m   \u001b[0;32mreturn\u001b[0m \u001b[0mread_reply_from_input\u001b[0m\u001b[0;34m(\u001b[0m\u001b[0mrequest_id\u001b[0m\u001b[0;34m,\u001b[0m \u001b[0mtimeout_sec\u001b[0m\u001b[0;34m)\u001b[0m\u001b[0;34m\u001b[0m\u001b[0;34m\u001b[0m\u001b[0m\n\u001b[0m",
            "\u001b[0;32m/usr/local/lib/python3.9/dist-packages/google/colab/_message.py\u001b[0m in \u001b[0;36mread_reply_from_input\u001b[0;34m(message_id, timeout_sec)\u001b[0m\n\u001b[1;32m     94\u001b[0m     \u001b[0mreply\u001b[0m \u001b[0;34m=\u001b[0m \u001b[0m_read_next_input_message\u001b[0m\u001b[0;34m(\u001b[0m\u001b[0;34m)\u001b[0m\u001b[0;34m\u001b[0m\u001b[0;34m\u001b[0m\u001b[0m\n\u001b[1;32m     95\u001b[0m     \u001b[0;32mif\u001b[0m \u001b[0mreply\u001b[0m \u001b[0;34m==\u001b[0m \u001b[0m_NOT_READY\u001b[0m \u001b[0;32mor\u001b[0m \u001b[0;32mnot\u001b[0m \u001b[0misinstance\u001b[0m\u001b[0;34m(\u001b[0m\u001b[0mreply\u001b[0m\u001b[0;34m,\u001b[0m \u001b[0mdict\u001b[0m\u001b[0;34m)\u001b[0m\u001b[0;34m:\u001b[0m\u001b[0;34m\u001b[0m\u001b[0;34m\u001b[0m\u001b[0m\n\u001b[0;32m---> 96\u001b[0;31m       \u001b[0mtime\u001b[0m\u001b[0;34m.\u001b[0m\u001b[0msleep\u001b[0m\u001b[0;34m(\u001b[0m\u001b[0;36m0.025\u001b[0m\u001b[0;34m)\u001b[0m\u001b[0;34m\u001b[0m\u001b[0;34m\u001b[0m\u001b[0m\n\u001b[0m\u001b[1;32m     97\u001b[0m       \u001b[0;32mcontinue\u001b[0m\u001b[0;34m\u001b[0m\u001b[0;34m\u001b[0m\u001b[0m\n\u001b[1;32m     98\u001b[0m     if (\n",
            "\u001b[0;31mKeyboardInterrupt\u001b[0m: "
          ]
        }
      ]
    },
    {
      "cell_type": "code",
      "source": [
        "for col in HotelReview.columns.drop(['Titles','Reviews','Dates','No. of Reviews','Address']):\n",
        "    print('-' * 40 + col + '-' * 40 )\n",
        "    display(HotelReview[col].value_counts(dropna=False).sort_index(ascending=True).head(10))\n"
      ],
      "metadata": {
        "colab": {
          "base_uri": "https://localhost:8080/",
          "height": 1000
        },
        "id": "gNEWOkmgGcxg",
        "outputId": "c991f9cb-91f5-4d98-e921-d614425496bb"
      },
      "execution_count": null,
      "outputs": [
        {
          "output_type": "stream",
          "name": "stdout",
          "text": [
            "----------------------------------------Hotel----------------------------------------\n"
          ]
        },
        {
          "output_type": "display_data",
          "data": {
            "text/plain": [
              "30 Bencoolen                               500\n",
              "ABC Hostel                                 118\n",
              "AMOY Hotel by Far East Hospitality        1000\n",
              "Aliwal Park Hotel                           48\n",
              "Aloha Changi                                30\n",
              "Amara Singapore                           1000\n",
              "Ambassador Transit Lounge Singapore T2       2\n",
              "Amrise Hotel                               158\n",
              "Andaz Singapore                           1000\n",
              "Ann Siang House                            150\n",
              "Name: Hotel, dtype: int64"
            ]
          },
          "metadata": {}
        },
        {
          "output_type": "stream",
          "name": "stdout",
          "text": [
            "----------------------------------------Review.Rating----------------------------------------\n"
          ]
        },
        {
          "output_type": "display_data",
          "data": {
            "text/plain": [
              "1     7608\n",
              "2     7336\n",
              "3    20188\n",
              "4    44556\n",
              "5    77166\n",
              "Name: Review.Rating, dtype: int64"
            ]
          },
          "metadata": {}
        },
        {
          "output_type": "stream",
          "name": "stdout",
          "text": [
            "----------------------------------------Travel.Type----------------------------------------\n"
          ]
        },
        {
          "output_type": "display_data",
          "data": {
            "text/plain": [
              "business    24574\n",
              "couple      43432\n",
              "family      33769\n",
              "friends     13919\n",
              "solo        12866\n",
              "NaN         28294\n",
              "Name: Travel.Type, dtype: int64"
            ]
          },
          "metadata": {}
        },
        {
          "output_type": "stream",
          "name": "stdout",
          "text": [
            "----------------------------------------Hotel Class----------------------------------------\n"
          ]
        },
        {
          "output_type": "display_data",
          "data": {
            "text/plain": [
              "1.0      391\n",
              "1.5       69\n",
              "2.0    13648\n",
              "2.5      942\n",
              "3.0    33192\n",
              "3.5     2995\n",
              "4.0    55085\n",
              "4.5     1700\n",
              "5.0    43441\n",
              "NaN     5391\n",
              "Name: Hotel Class, dtype: int64"
            ]
          },
          "metadata": {}
        },
        {
          "output_type": "stream",
          "name": "stdout",
          "text": [
            "----------------------------------------Rating----------------------------------------\n"
          ]
        },
        {
          "output_type": "display_data",
          "data": {
            "text/plain": [
              "1.0       33\n",
              "1.5        4\n",
              "2.0      778\n",
              "2.5      989\n",
              "3.0     8196\n",
              "3.5    30668\n",
              "4.0    52150\n",
              "4.5    60265\n",
              "5.0     3763\n",
              "NaN        8\n",
              "Name: Rating, dtype: int64"
            ]
          },
          "metadata": {}
        },
        {
          "output_type": "stream",
          "name": "stdout",
          "text": [
            "----------------------------------------Location----------------------------------------\n"
          ]
        },
        {
          "output_type": "display_data",
          "data": {
            "text/plain": [
              "1.0        9\n",
              "1.5       10\n",
              "2.5      168\n",
              "3.0     2587\n",
              "3.5    18269\n",
              "4.0    32763\n",
              "4.5    83071\n",
              "5.0    19962\n",
              "NaN       15\n",
              "Name: Location, dtype: int64"
            ]
          },
          "metadata": {}
        },
        {
          "output_type": "stream",
          "name": "stdout",
          "text": [
            "----------------------------------------Cleanliness----------------------------------------\n"
          ]
        },
        {
          "output_type": "display_data",
          "data": {
            "text/plain": [
              "1.0       42\n",
              "1.5       56\n",
              "2.0      706\n",
              "2.5     1230\n",
              "3.0     4114\n",
              "3.5    13900\n",
              "4.0    42585\n",
              "4.5    80109\n",
              "5.0    14095\n",
              "NaN       17\n",
              "Name: Cleanliness, dtype: int64"
            ]
          },
          "metadata": {}
        },
        {
          "output_type": "stream",
          "name": "stdout",
          "text": [
            "----------------------------------------Service----------------------------------------\n"
          ]
        },
        {
          "output_type": "display_data",
          "data": {
            "text/plain": [
              "1.0        5\n",
              "2.0      450\n",
              "2.5     1217\n",
              "3.0     5039\n",
              "3.5    21988\n",
              "4.0    51035\n",
              "4.5    73307\n",
              "5.0     3589\n",
              "NaN      224\n",
              "Name: Service, dtype: int64"
            ]
          },
          "metadata": {}
        },
        {
          "output_type": "stream",
          "name": "stdout",
          "text": [
            "----------------------------------------Value----------------------------------------\n"
          ]
        },
        {
          "output_type": "display_data",
          "data": {
            "text/plain": [
              "2.0      911\n",
              "2.5      667\n",
              "3.0     7000\n",
              "3.5    33024\n",
              "4.0    95398\n",
              "4.5    18466\n",
              "5.0       19\n",
              "NaN     1369\n",
              "Name: Value, dtype: int64"
            ]
          },
          "metadata": {}
        },
        {
          "output_type": "stream",
          "name": "stdout",
          "text": [
            "----------------------------------------FreeParking----------------------------------------\n"
          ]
        },
        {
          "output_type": "display_data",
          "data": {
            "text/plain": [
              "0.0    116655\n",
              "1.0     40191\n",
              "NaN         8\n",
              "Name: FreeParking, dtype: int64"
            ]
          },
          "metadata": {}
        },
        {
          "output_type": "stream",
          "name": "stdout",
          "text": [
            "----------------------------------------FreeWifi----------------------------------------\n"
          ]
        },
        {
          "output_type": "display_data",
          "data": {
            "text/plain": [
              "0.0     16631\n",
              "1.0    140215\n",
              "NaN         8\n",
              "Name: FreeWifi, dtype: int64"
            ]
          },
          "metadata": {}
        },
        {
          "output_type": "stream",
          "name": "stdout",
          "text": [
            "----------------------------------------FreeBreakfast----------------------------------------\n"
          ]
        },
        {
          "output_type": "display_data",
          "data": {
            "text/plain": [
              "0.0    137670\n",
              "1.0     19176\n",
              "NaN         8\n",
              "Name: FreeBreakfast, dtype: int64"
            ]
          },
          "metadata": {}
        },
        {
          "output_type": "stream",
          "name": "stdout",
          "text": [
            "----------------------------------------Gym----------------------------------------\n"
          ]
        },
        {
          "output_type": "display_data",
          "data": {
            "text/plain": [
              "0.0     48281\n",
              "1.0    108565\n",
              "NaN         8\n",
              "Name: Gym, dtype: int64"
            ]
          },
          "metadata": {}
        },
        {
          "output_type": "stream",
          "name": "stdout",
          "text": [
            "----------------------------------------Pool----------------------------------------\n"
          ]
        },
        {
          "output_type": "display_data",
          "data": {
            "text/plain": [
              "0.0     47442\n",
              "1.0    109404\n",
              "NaN         8\n",
              "Name: Pool, dtype: int64"
            ]
          },
          "metadata": {}
        },
        {
          "output_type": "stream",
          "name": "stdout",
          "text": [
            "----------------------------------------Restaurant----------------------------------------\n"
          ]
        },
        {
          "output_type": "display_data",
          "data": {
            "text/plain": [
              "0.0     36117\n",
              "1.0    120729\n",
              "NaN         8\n",
              "Name: Restaurant, dtype: int64"
            ]
          },
          "metadata": {}
        },
        {
          "output_type": "stream",
          "name": "stdout",
          "text": [
            "----------------------------------------BarLounge----------------------------------------\n"
          ]
        },
        {
          "output_type": "display_data",
          "data": {
            "text/plain": [
              "0.0    64310\n",
              "1.0    92536\n",
              "NaN        8\n",
              "Name: BarLounge, dtype: int64"
            ]
          },
          "metadata": {}
        },
        {
          "output_type": "stream",
          "name": "stdout",
          "text": [
            "----------------------------------------TV----------------------------------------\n"
          ]
        },
        {
          "output_type": "display_data",
          "data": {
            "text/plain": [
              "0.0      9351\n",
              "1.0    147495\n",
              "NaN         8\n",
              "Name: TV, dtype: int64"
            ]
          },
          "metadata": {}
        },
        {
          "output_type": "stream",
          "name": "stdout",
          "text": [
            "----------------------------------------EventFacilities----------------------------------------\n"
          ]
        },
        {
          "output_type": "display_data",
          "data": {
            "text/plain": [
              "0.0     44028\n",
              "1.0    112818\n",
              "NaN         8\n",
              "Name: EventFacilities, dtype: int64"
            ]
          },
          "metadata": {}
        },
        {
          "output_type": "stream",
          "name": "stdout",
          "text": [
            "----------------------------------------RoomService----------------------------------------\n"
          ]
        },
        {
          "output_type": "display_data",
          "data": {
            "text/plain": [
              "0.0    57575\n",
              "1.0    99271\n",
              "NaN        8\n",
              "Name: RoomService, dtype: int64"
            ]
          },
          "metadata": {}
        },
        {
          "output_type": "stream",
          "name": "stdout",
          "text": [
            "----------------------------------------Year----------------------------------------\n"
          ]
        },
        {
          "output_type": "display_data",
          "data": {
            "text/plain": [
              "2007      329\n",
              "2008      447\n",
              "2009     2269\n",
              "2010     1283\n",
              "2011     2028\n",
              "2012     3001\n",
              "2013     4181\n",
              "2014     6480\n",
              "2015     9964\n",
              "2016    12620\n",
              "Name: Year, dtype: int64"
            ]
          },
          "metadata": {}
        }
      ]
    },
    {
      "cell_type": "markdown",
      "source": [
        "#Data Exploratory Analysis"
      ],
      "metadata": {
        "id": "A69p2U-1T73m"
      }
    },
    {
      "cell_type": "code",
      "source": [
        "#check for rename/ NA/ impute, datatype, polarity score\n",
        "\n",
        "#check for NA values\n",
        "print (HotelReview.isna().sum())"
      ],
      "metadata": {
        "colab": {
          "base_uri": "https://localhost:8080/"
        },
        "id": "8VKvta9oV1Zs",
        "outputId": "1f030251-f87e-41f4-8a4e-ca5633d60c60"
      },
      "execution_count": null,
      "outputs": [
        {
          "output_type": "stream",
          "name": "stdout",
          "text": [
            "Hotel                  0\n",
            "Titles                 7\n",
            "Reviews                0\n",
            "Dates                  0\n",
            "Review.Rating          0\n",
            "Travel.Type        28294\n",
            "Hotel Class         5391\n",
            "No. of Reviews         8\n",
            "Rating                 8\n",
            "Location              15\n",
            "Cleanliness           17\n",
            "Service              224\n",
            "Value               1369\n",
            "Address               21\n",
            "FreeParking            8\n",
            "FreeWifi               8\n",
            "FreeBreakfast          8\n",
            "Gym                    8\n",
            "Pool                   8\n",
            "Restaurant             8\n",
            "BarLounge              8\n",
            "TV                     8\n",
            "EventFacilities        8\n",
            "RoomService            8\n",
            "Year                   0\n",
            "dtype: int64\n"
          ]
        }
      ]
    },
    {
      "cell_type": "code",
      "source": [
        "#rename col names\n",
        "print(HotelReview.columns)\n",
        "HotelReview.rename(columns = {\"Review.Rating\": \"Review_Rating\", \"Travel.Type\": \"Travel_Type\", \"No. of Reviews\": \"No_of_Reviews\", \"Hotel Class\": \"Hotel_Class\"}, inplace = True)\n",
        "print(\"\\n After modifying columns:\\n\", HotelReview.columns)\n",
        "\n",
        "#impute TravelType 'others'\n",
        "HotelReview['Travel_Type'].fillna(\"Others\", inplace=True)\n",
        "print('\\n Dinsinct values for TravelType:\\n' + str(HotelReview['Travel_Type'].unique()))\n",
        "\n",
        "#NA drop rows (Titles, No. of Reviews, Rating, FreeParking.. RoomService)\n",
        "HotelReview = HotelReview.dropna()"
      ],
      "metadata": {
        "colab": {
          "base_uri": "https://localhost:8080/"
        },
        "id": "G2VmiKFXEuEU",
        "outputId": "50e84840-6f21-42cb-c7b1-0c4d9bfd4fcc"
      },
      "execution_count": null,
      "outputs": [
        {
          "output_type": "stream",
          "name": "stdout",
          "text": [
            "Index(['Hotel', 'Titles', 'Reviews', 'Dates', 'Review.Rating', 'Travel.Type',\n",
            "       'Hotel Class', 'No. of Reviews', 'Rating', 'Location', 'Cleanliness',\n",
            "       'Service', 'Value', 'Address', 'FreeParking', 'FreeWifi',\n",
            "       'FreeBreakfast', 'Gym', 'Pool', 'Restaurant', 'BarLounge', 'TV',\n",
            "       'EventFacilities', 'RoomService', 'Year'],\n",
            "      dtype='object')\n",
            "\n",
            " After modifying columns:\n",
            " Index(['Hotel', 'Titles', 'Reviews', 'Dates', 'Review_Rating', 'Travel_Type',\n",
            "       'Hotel_Class', 'No_of_Reviews', 'Rating', 'Location', 'Cleanliness',\n",
            "       'Service', 'Value', 'Address', 'FreeParking', 'FreeWifi',\n",
            "       'FreeBreakfast', 'Gym', 'Pool', 'Restaurant', 'BarLounge', 'TV',\n",
            "       'EventFacilities', 'RoomService', 'Year'],\n",
            "      dtype='object')\n",
            "\n",
            " Dinsinct values for TravelType:\n",
            "['couple' 'family' 'friends' 'business' 'solo' 'Others']\n"
          ]
        }
      ]
    },
    {
      "cell_type": "code",
      "source": [
        "# Data types\n",
        "\n",
        "print(HotelReview.dtypes)\n",
        "\n",
        "HotelReview[['Hotel','Titles', 'Reviews', 'Address']] = HotelReview[['Hotel','Titles', 'Reviews', 'Address']].astype(\"string\")\n",
        "HotelReview[['Review_Rating','Travel_Type', 'Hotel_Class', 'Rating','Location','Cleanliness','Service','Value','FreeParking','FreeWifi','FreeBreakfast','Gym','Pool','Restaurant','BarLounge','TV','EventFacilities','RoomService']] = HotelReview[['Review_Rating','Travel_Type', 'Hotel_Class', 'Rating','Location','Cleanliness','Service','Value','FreeParking','FreeWifi','FreeBreakfast','Gym','Pool','Restaurant','BarLounge','TV','EventFacilities','RoomService']].astype(\"category\")\n",
        "HotelReview[['No_of_Reviews', 'Year']] = HotelReview[['No_of_Reviews', 'Year']].astype(\"int\")\n",
        "print(HotelReview.dtypes)\n"
      ],
      "metadata": {
        "colab": {
          "base_uri": "https://localhost:8080/"
        },
        "id": "9SH_QrSfNxLI",
        "outputId": "40be160a-1c68-4ea7-b884-8f777bf2e177"
      },
      "execution_count": null,
      "outputs": [
        {
          "output_type": "stream",
          "name": "stdout",
          "text": [
            "Hotel               object\n",
            "Titles              object\n",
            "Reviews             object\n",
            "Dates               object\n",
            "Review_Rating        int64\n",
            "Travel_Type         object\n",
            "Hotel_Class        float64\n",
            "No_of_Reviews      float64\n",
            "Rating             float64\n",
            "Location           float64\n",
            "Cleanliness        float64\n",
            "Service            float64\n",
            "Value              float64\n",
            "Address             object\n",
            "FreeParking        float64\n",
            "FreeWifi           float64\n",
            "FreeBreakfast      float64\n",
            "Gym                float64\n",
            "Pool               float64\n",
            "Restaurant         float64\n",
            "BarLounge          float64\n",
            "TV                 float64\n",
            "EventFacilities    float64\n",
            "RoomService        float64\n",
            "Year                object\n",
            "dtype: object\n",
            "Hotel                string\n",
            "Titles               string\n",
            "Reviews              string\n",
            "Dates                object\n",
            "Review_Rating      category\n",
            "Travel_Type        category\n",
            "Hotel_Class        category\n",
            "No_of_Reviews         int64\n",
            "Rating             category\n",
            "Location           category\n",
            "Cleanliness        category\n",
            "Service            category\n",
            "Value              category\n",
            "Address              string\n",
            "FreeParking        category\n",
            "FreeWifi           category\n",
            "FreeBreakfast      category\n",
            "Gym                category\n",
            "Pool               category\n",
            "Restaurant         category\n",
            "BarLounge          category\n",
            "TV                 category\n",
            "EventFacilities    category\n",
            "RoomService        category\n",
            "Year                  int64\n",
            "dtype: object\n"
          ]
        }
      ]
    },
    {
      "cell_type": "code",
      "source": [
        "#Add polarity scores\n",
        "import nltk\n",
        "nltk.download('vader_lexicon')\n",
        "from nltk.sentiment import SentimentIntensityAnalyzer\n",
        "\n",
        "sia = SentimentIntensityAnalyzer()\n",
        "positive = []\n",
        "negative = []\n",
        "neutral = []\n",
        "compound = []\n",
        "\n",
        "for rev in HotelReview['Reviews']:\n",
        "  score = sia.polarity_scores(rev)\n",
        "  positive.append(score['pos'])\n",
        "  neutral.append(score['neu'])\n",
        "  negative.append(score['neg'])\n",
        "  compound.append(score['compound'])\n",
        "\n",
        "word_count = []\n",
        "for sent in HotelReview['Reviews']:\n",
        "  count = sent.count(' ') + 1\n",
        "  word_count.append(count)\n",
        "\n",
        "HotelReview['Reviews_WordCount'] = word_count\n",
        "HotelReview['Sentiment_Pos'] = positive\n",
        "HotelReview['Sentiment_Neg'] = negative\n",
        "HotelReview['Sentiment_Neu'] = neutral\n",
        "HotelReview['Sentiment_Compound'] = compound\n",
        "\n",
        "HotelReview['Sentiment'] = HotelReview['Sentiment_Compound'].apply(\n",
        "    lambda x: 'Positive' if x >0 else 'Neutral' if x==0 else 'Negative')"
      ],
      "metadata": {
        "colab": {
          "base_uri": "https://localhost:8080/"
        },
        "id": "bnuj5POglcTV",
        "outputId": "01d4fd93-2dbc-4824-b479-502089d5dca1"
      },
      "execution_count": null,
      "outputs": [
        {
          "output_type": "stream",
          "name": "stderr",
          "text": [
            "[nltk_data] Downloading package vader_lexicon to /root/nltk_data...\n",
            "[nltk_data]   Package vader_lexicon is already up-to-date!\n"
          ]
        }
      ]
    },
    {
      "cell_type": "code",
      "source": [
        "HotelReview.info()"
      ],
      "metadata": {
        "colab": {
          "base_uri": "https://localhost:8080/"
        },
        "id": "LC-XAXctrgzx",
        "outputId": "6bf36eec-0a9a-478c-a197-5c4cce67c804"
      },
      "execution_count": null,
      "outputs": [
        {
          "output_type": "stream",
          "name": "stdout",
          "text": [
            "<class 'pandas.core.frame.DataFrame'>\n",
            "Int64Index: 151319 entries, 0 to 157282\n",
            "Data columns (total 31 columns):\n",
            " #   Column              Non-Null Count   Dtype   \n",
            "---  ------              --------------   -----   \n",
            " 0   Hotel               151319 non-null  string  \n",
            " 1   Titles              151319 non-null  string  \n",
            " 2   Reviews             151319 non-null  string  \n",
            " 3   Dates               151319 non-null  object  \n",
            " 4   Review_Rating       151319 non-null  category\n",
            " 5   Travel_Type         151319 non-null  category\n",
            " 6   Hotel_Class         151319 non-null  category\n",
            " 7   No_of_Reviews       151319 non-null  int64   \n",
            " 8   Rating              151319 non-null  category\n",
            " 9   Location            151319 non-null  category\n",
            " 10  Cleanliness         151319 non-null  category\n",
            " 11  Service             151319 non-null  category\n",
            " 12  Value               151319 non-null  category\n",
            " 13  Address             151319 non-null  string  \n",
            " 14  FreeParking         151319 non-null  category\n",
            " 15  FreeWifi            151319 non-null  category\n",
            " 16  FreeBreakfast       151319 non-null  category\n",
            " 17  Gym                 151319 non-null  category\n",
            " 18  Pool                151319 non-null  category\n",
            " 19  Restaurant          151319 non-null  category\n",
            " 20  BarLounge           151319 non-null  category\n",
            " 21  TV                  151319 non-null  category\n",
            " 22  EventFacilities     151319 non-null  category\n",
            " 23  RoomService         151319 non-null  category\n",
            " 24  Year                151319 non-null  int64   \n",
            " 25  Reviews_WordCount   151319 non-null  int64   \n",
            " 26  Sentiment_Pos       151319 non-null  float64 \n",
            " 27  Sentiment_Neg       151319 non-null  float64 \n",
            " 28  Sentiment_Neu       151319 non-null  float64 \n",
            " 29  Sentiment_Compound  151319 non-null  float64 \n",
            " 30  Sentiment           151319 non-null  object  \n",
            "dtypes: category(18), float64(4), int64(3), object(2), string(4)\n",
            "memory usage: 18.8+ MB\n"
          ]
        }
      ]
    },
    {
      "cell_type": "code",
      "source": [
        "HotelReview.head(3)"
      ],
      "metadata": {
        "colab": {
          "base_uri": "https://localhost:8080/",
          "height": 671
        },
        "id": "gnhLnCZxlosP",
        "outputId": "d14dd6a3-4e3d-479b-8734-b31e747faf31"
      },
      "execution_count": null,
      "outputs": [
        {
          "output_type": "execute_result",
          "data": {
            "text/plain": [
              "                                    Hotel                      Titles  \\\n",
              "0  Sofitel Singapore Sentosa Resort & Spa       Great place to chill!   \n",
              "1  Sofitel Singapore Sentosa Resort & Spa  55th Birthday Celebration!   \n",
              "2  Sofitel Singapore Sentosa Resort & Spa  Will definitely come back!   \n",
              "\n",
              "                                                                                               Reviews  \\\n",
              "0  Wonderful experience at Le Bar with fur kids! High tea was great value with free flow coffee and...   \n",
              "1  My wife and I just back from 5 days staycation. We wish to share our Appreciation to Sofitel Sen...   \n",
              "2  Super comfy bed and really great location for a peaceful getaway if you love nature :) Love that...   \n",
              "\n",
              "            Dates Review_Rating Travel_Type Hotel_Class  No_of_Reviews Rating  \\\n",
              "0   February 2023             5      couple         5.0           5565    4.5   \n",
              "1     August 2022             5      couple         5.0           5565    4.5   \n",
              "2   February 2023             4      couple         5.0           5565    4.5   \n",
              "\n",
              "  Location  ...   TV EventFacilities RoomService  Year Reviews_WordCount  \\\n",
              "0      4.5  ...  1.0             1.0         1.0  2023                47   \n",
              "1      4.5  ...  1.0             1.0         1.0  2022               249   \n",
              "2      4.5  ...  1.0             1.0         1.0  2023                41   \n",
              "\n",
              "  Sentiment_Pos Sentiment_Neg Sentiment_Neu Sentiment_Compound Sentiment  \n",
              "0         0.547         0.000         0.453             0.9912  Positive  \n",
              "1         0.336         0.028         0.636             0.9989  Positive  \n",
              "2         0.413         0.000         0.587             0.9755  Positive  \n",
              "\n",
              "[3 rows x 31 columns]"
            ],
            "text/html": [
              "\n",
              "  <div id=\"df-a80546be-daa2-4824-a859-55a0bb467121\">\n",
              "    <div class=\"colab-df-container\">\n",
              "      <div>\n",
              "<style scoped>\n",
              "    .dataframe tbody tr th:only-of-type {\n",
              "        vertical-align: middle;\n",
              "    }\n",
              "\n",
              "    .dataframe tbody tr th {\n",
              "        vertical-align: top;\n",
              "    }\n",
              "\n",
              "    .dataframe thead th {\n",
              "        text-align: right;\n",
              "    }\n",
              "</style>\n",
              "<table border=\"1\" class=\"dataframe\">\n",
              "  <thead>\n",
              "    <tr style=\"text-align: right;\">\n",
              "      <th></th>\n",
              "      <th>Hotel</th>\n",
              "      <th>Titles</th>\n",
              "      <th>Reviews</th>\n",
              "      <th>Dates</th>\n",
              "      <th>Review_Rating</th>\n",
              "      <th>Travel_Type</th>\n",
              "      <th>Hotel_Class</th>\n",
              "      <th>No_of_Reviews</th>\n",
              "      <th>Rating</th>\n",
              "      <th>Location</th>\n",
              "      <th>...</th>\n",
              "      <th>TV</th>\n",
              "      <th>EventFacilities</th>\n",
              "      <th>RoomService</th>\n",
              "      <th>Year</th>\n",
              "      <th>Reviews_WordCount</th>\n",
              "      <th>Sentiment_Pos</th>\n",
              "      <th>Sentiment_Neg</th>\n",
              "      <th>Sentiment_Neu</th>\n",
              "      <th>Sentiment_Compound</th>\n",
              "      <th>Sentiment</th>\n",
              "    </tr>\n",
              "  </thead>\n",
              "  <tbody>\n",
              "    <tr>\n",
              "      <th>0</th>\n",
              "      <td>Sofitel Singapore Sentosa Resort &amp; Spa</td>\n",
              "      <td>Great place to chill!</td>\n",
              "      <td>Wonderful experience at Le Bar with fur kids! High tea was great value with free flow coffee and...</td>\n",
              "      <td>February 2023</td>\n",
              "      <td>5</td>\n",
              "      <td>couple</td>\n",
              "      <td>5.0</td>\n",
              "      <td>5565</td>\n",
              "      <td>4.5</td>\n",
              "      <td>4.5</td>\n",
              "      <td>...</td>\n",
              "      <td>1.0</td>\n",
              "      <td>1.0</td>\n",
              "      <td>1.0</td>\n",
              "      <td>2023</td>\n",
              "      <td>47</td>\n",
              "      <td>0.547</td>\n",
              "      <td>0.000</td>\n",
              "      <td>0.453</td>\n",
              "      <td>0.9912</td>\n",
              "      <td>Positive</td>\n",
              "    </tr>\n",
              "    <tr>\n",
              "      <th>1</th>\n",
              "      <td>Sofitel Singapore Sentosa Resort &amp; Spa</td>\n",
              "      <td>55th Birthday Celebration!</td>\n",
              "      <td>My wife and I just back from 5 days staycation. We wish to share our Appreciation to Sofitel Sen...</td>\n",
              "      <td>August 2022</td>\n",
              "      <td>5</td>\n",
              "      <td>couple</td>\n",
              "      <td>5.0</td>\n",
              "      <td>5565</td>\n",
              "      <td>4.5</td>\n",
              "      <td>4.5</td>\n",
              "      <td>...</td>\n",
              "      <td>1.0</td>\n",
              "      <td>1.0</td>\n",
              "      <td>1.0</td>\n",
              "      <td>2022</td>\n",
              "      <td>249</td>\n",
              "      <td>0.336</td>\n",
              "      <td>0.028</td>\n",
              "      <td>0.636</td>\n",
              "      <td>0.9989</td>\n",
              "      <td>Positive</td>\n",
              "    </tr>\n",
              "    <tr>\n",
              "      <th>2</th>\n",
              "      <td>Sofitel Singapore Sentosa Resort &amp; Spa</td>\n",
              "      <td>Will definitely come back!</td>\n",
              "      <td>Super comfy bed and really great location for a peaceful getaway if you love nature :) Love that...</td>\n",
              "      <td>February 2023</td>\n",
              "      <td>4</td>\n",
              "      <td>couple</td>\n",
              "      <td>5.0</td>\n",
              "      <td>5565</td>\n",
              "      <td>4.5</td>\n",
              "      <td>4.5</td>\n",
              "      <td>...</td>\n",
              "      <td>1.0</td>\n",
              "      <td>1.0</td>\n",
              "      <td>1.0</td>\n",
              "      <td>2023</td>\n",
              "      <td>41</td>\n",
              "      <td>0.413</td>\n",
              "      <td>0.000</td>\n",
              "      <td>0.587</td>\n",
              "      <td>0.9755</td>\n",
              "      <td>Positive</td>\n",
              "    </tr>\n",
              "  </tbody>\n",
              "</table>\n",
              "<p>3 rows × 31 columns</p>\n",
              "</div>\n",
              "      <button class=\"colab-df-convert\" onclick=\"convertToInteractive('df-a80546be-daa2-4824-a859-55a0bb467121')\"\n",
              "              title=\"Convert this dataframe to an interactive table.\"\n",
              "              style=\"display:none;\">\n",
              "        \n",
              "  <svg xmlns=\"http://www.w3.org/2000/svg\" height=\"24px\"viewBox=\"0 0 24 24\"\n",
              "       width=\"24px\">\n",
              "    <path d=\"M0 0h24v24H0V0z\" fill=\"none\"/>\n",
              "    <path d=\"M18.56 5.44l.94 2.06.94-2.06 2.06-.94-2.06-.94-.94-2.06-.94 2.06-2.06.94zm-11 1L8.5 8.5l.94-2.06 2.06-.94-2.06-.94L8.5 2.5l-.94 2.06-2.06.94zm10 10l.94 2.06.94-2.06 2.06-.94-2.06-.94-.94-2.06-.94 2.06-2.06.94z\"/><path d=\"M17.41 7.96l-1.37-1.37c-.4-.4-.92-.59-1.43-.59-.52 0-1.04.2-1.43.59L10.3 9.45l-7.72 7.72c-.78.78-.78 2.05 0 2.83L4 21.41c.39.39.9.59 1.41.59.51 0 1.02-.2 1.41-.59l7.78-7.78 2.81-2.81c.8-.78.8-2.07 0-2.86zM5.41 20L4 18.59l7.72-7.72 1.47 1.35L5.41 20z\"/>\n",
              "  </svg>\n",
              "      </button>\n",
              "      \n",
              "  <style>\n",
              "    .colab-df-container {\n",
              "      display:flex;\n",
              "      flex-wrap:wrap;\n",
              "      gap: 12px;\n",
              "    }\n",
              "\n",
              "    .colab-df-convert {\n",
              "      background-color: #E8F0FE;\n",
              "      border: none;\n",
              "      border-radius: 50%;\n",
              "      cursor: pointer;\n",
              "      display: none;\n",
              "      fill: #1967D2;\n",
              "      height: 32px;\n",
              "      padding: 0 0 0 0;\n",
              "      width: 32px;\n",
              "    }\n",
              "\n",
              "    .colab-df-convert:hover {\n",
              "      background-color: #E2EBFA;\n",
              "      box-shadow: 0px 1px 2px rgba(60, 64, 67, 0.3), 0px 1px 3px 1px rgba(60, 64, 67, 0.15);\n",
              "      fill: #174EA6;\n",
              "    }\n",
              "\n",
              "    [theme=dark] .colab-df-convert {\n",
              "      background-color: #3B4455;\n",
              "      fill: #D2E3FC;\n",
              "    }\n",
              "\n",
              "    [theme=dark] .colab-df-convert:hover {\n",
              "      background-color: #434B5C;\n",
              "      box-shadow: 0px 1px 3px 1px rgba(0, 0, 0, 0.15);\n",
              "      filter: drop-shadow(0px 1px 2px rgba(0, 0, 0, 0.3));\n",
              "      fill: #FFFFFF;\n",
              "    }\n",
              "  </style>\n",
              "\n",
              "      <script>\n",
              "        const buttonEl =\n",
              "          document.querySelector('#df-a80546be-daa2-4824-a859-55a0bb467121 button.colab-df-convert');\n",
              "        buttonEl.style.display =\n",
              "          google.colab.kernel.accessAllowed ? 'block' : 'none';\n",
              "\n",
              "        async function convertToInteractive(key) {\n",
              "          const element = document.querySelector('#df-a80546be-daa2-4824-a859-55a0bb467121');\n",
              "          const dataTable =\n",
              "            await google.colab.kernel.invokeFunction('convertToInteractive',\n",
              "                                                     [key], {});\n",
              "          if (!dataTable) return;\n",
              "\n",
              "          const docLinkHtml = 'Like what you see? Visit the ' +\n",
              "            '<a target=\"_blank\" href=https://colab.research.google.com/notebooks/data_table.ipynb>data table notebook</a>'\n",
              "            + ' to learn more about interactive tables.';\n",
              "          element.innerHTML = '';\n",
              "          dataTable['output_type'] = 'display_data';\n",
              "          await google.colab.output.renderOutput(dataTable, element);\n",
              "          const docLink = document.createElement('div');\n",
              "          docLink.innerHTML = docLinkHtml;\n",
              "          element.appendChild(docLink);\n",
              "        }\n",
              "      </script>\n",
              "    </div>\n",
              "  </div>\n",
              "  "
            ]
          },
          "metadata": {},
          "execution_count": 17
        }
      ]
    },
    {
      "cell_type": "code",
      "source": [
        "from sklearn.model_selection import train_test_split\n",
        "\n",
        "train_set, test_set = train_test_split(HotelReview, test_size=0.2, random_state=42)"
      ],
      "metadata": {
        "id": "JrXyePqtlouk"
      },
      "execution_count": null,
      "outputs": []
    },
    {
      "cell_type": "code",
      "source": [
        "HotelReview.to_csv('/content/drive/MyDrive/BAP Project/Datasets/Final Datasets/Hotel_Cleaned.csv', index=False)\n",
        "train_set.to_csv('/content/drive/MyDrive/BAP Project/Datasets/Final Datasets/train_set.csv', index=False)\n",
        "test_set.to_csv('/content/drive/MyDrive/BAP Project/Datasets/Final Datasets/test_set.csv', index=False)"
      ],
      "metadata": {
        "id": "NRk00RApr3oA",
        "colab": {
          "base_uri": "https://localhost:8080/",
          "height": 183
        },
        "outputId": "e5922063-4c8b-4f60-9e0b-04808df31022"
      },
      "execution_count": 1,
      "outputs": [
        {
          "output_type": "error",
          "ename": "NameError",
          "evalue": "name 'HotelReview' is not defined",
          "traceback": [
            "\u001b[0;31m---------------------------------------------------------------------------\u001b[0m",
            "\u001b[0;31mNameError\u001b[0m                                 Traceback (most recent call last)",
            "\u001b[0;32m<ipython-input-1-2eb44440eccd>\u001b[0m in \u001b[0;36m<cell line: 1>\u001b[0;34m()\u001b[0m\n\u001b[0;32m----> 1\u001b[0;31m \u001b[0mHotelReview\u001b[0m\u001b[0;34m.\u001b[0m\u001b[0mto_csv\u001b[0m\u001b[0;34m(\u001b[0m\u001b[0;34m'/content/drive/MyDrive/BAP Project/Datasets/Final Datasets/Hotel_Cleaned.csv'\u001b[0m\u001b[0;34m,\u001b[0m \u001b[0mindex\u001b[0m\u001b[0;34m=\u001b[0m\u001b[0;32mFalse\u001b[0m\u001b[0;34m)\u001b[0m\u001b[0;34m\u001b[0m\u001b[0;34m\u001b[0m\u001b[0m\n\u001b[0m\u001b[1;32m      2\u001b[0m \u001b[0mtrain_set\u001b[0m\u001b[0;34m.\u001b[0m\u001b[0mto_csv\u001b[0m\u001b[0;34m(\u001b[0m\u001b[0;34m'/content/drive/MyDrive/BAP Project/Datasets/Final Datasets/train_set.csv'\u001b[0m\u001b[0;34m,\u001b[0m \u001b[0mindex\u001b[0m\u001b[0;34m=\u001b[0m\u001b[0;32mFalse\u001b[0m\u001b[0;34m)\u001b[0m\u001b[0;34m\u001b[0m\u001b[0;34m\u001b[0m\u001b[0m\n\u001b[1;32m      3\u001b[0m \u001b[0mtest_set\u001b[0m\u001b[0;34m.\u001b[0m\u001b[0mto_csv\u001b[0m\u001b[0;34m(\u001b[0m\u001b[0;34m'/content/drive/MyDrive/BAP Project/Datasets/Final Datasets/test_set.csv'\u001b[0m\u001b[0;34m,\u001b[0m \u001b[0mindex\u001b[0m\u001b[0;34m=\u001b[0m\u001b[0;32mFalse\u001b[0m\u001b[0;34m)\u001b[0m\u001b[0;34m\u001b[0m\u001b[0;34m\u001b[0m\u001b[0m\n",
            "\u001b[0;31mNameError\u001b[0m: name 'HotelReview' is not defined"
          ]
        }
      ]
    }
  ],
  "metadata": {
    "colab": {
      "provenance": []
    },
    "kernelspec": {
      "display_name": "Python 3",
      "name": "python3"
    },
    "language_info": {
      "name": "python"
    }
  },
  "nbformat": 4,
  "nbformat_minor": 0
}