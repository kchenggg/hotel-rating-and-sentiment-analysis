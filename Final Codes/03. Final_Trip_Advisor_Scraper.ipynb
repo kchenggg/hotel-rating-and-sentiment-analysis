{
  "cells": [
    {
      "cell_type": "code",
      "execution_count": null,
      "id": "e0ea54cd",
      "metadata": {
        "id": "e0ea54cd"
      },
      "outputs": [],
      "source": [
        "#! pip install selenium\n",
        "!pip install chromedriver-autoinstaller\n",
        "!pip install webdriver-manager"
      ]
    },
    {
      "cell_type": "code",
      "execution_count": null,
      "id": "fea800a8",
      "metadata": {
        "id": "fea800a8"
      },
      "outputs": [],
      "source": [
        "import requests\n",
        "from requests import get\n",
        "from selenium import webdriver\n",
        "from webdriver_manager.chrome import ChromeDriverManager\n",
        "import chromedriver_autoinstaller\n",
        "from selenium.common.exceptions import NoSuchElementException, StaleElementReferenceException\n",
        "from selenium.webdriver.common.by import By\n",
        "from selenium.webdriver.support.ui import WebDriverWait\n",
        "from selenium.webdriver.support import expected_conditions as EC\n",
        "from readability import Readability\n",
        "import csv\n",
        "from datetime import datetime as dt\n",
        "import time\n",
        "\n",
        "# open file with hotel data inside.\n",
        "hotel_data = open('Hotel_Data.csv', 'a', newline='', encoding='utf-8')\n",
        "csvWriter = csv.writer(hotel_data)\n",
        "# write headers if necessary\n",
        "#csvWriter.writerow([\"Hotel\", \"Titles\", \"Reviews\", \"Dates\", \"Review Rating\", \"Travel Type\"])\n",
        "\n",
        "# opening file with hotel urls\n",
        "with open('hotels_notaccor.csv', newline='') as f:\n",
        "    reader = csv.reader(f)\n",
        "    data = list(reader)"
      ]
    },
    {
      "cell_type": "code",
      "execution_count": null,
      "id": "33571358",
      "metadata": {
        "id": "33571358"
      },
      "outputs": [],
      "source": [
        "# function for scraping reviews from hotels with over 1000 reviews.\n",
        "def hotel_scrape(url_here):\n",
        "    # initiate driver\n",
        "    driver = webdriver.Chrome(ChromeDriverManager().install())\n",
        "    # Make a request to the website and get the object\n",
        "    driver.get(url_here)\n",
        "    # grab the hotel name\n",
        "    Hotel = driver.find_element_by_xpath(\".//h1[@class='QdLfr b d Pn']\").get_attribute(\"innerHTML\")\n",
        "\n",
        "    # for each page loop\n",
        "    i = 0\n",
        "    for i in range(100):\n",
        "        time.sleep(1)\n",
        "\n",
        "        # expand the review\n",
        "        expander = WebDriverWait(driver, 120).until(\n",
        "            EC.element_to_be_clickable(\n",
        "                (By.XPATH, \".//span[(@class='Ignyf _S Z')]\")))\n",
        "        expander.click()\n",
        "\n",
        "        # grab the number of reviews displayed on page\n",
        "#         time.sleep(3)\n",
        "        #container = driver.find_elements_by_xpath(\"//div[@data-reviewid]\")\n",
        "        container = driver.find_elements_by_xpath(\"//div[@class='WAllg _T']\")\n",
        "\n",
        "        x = 0\n",
        "        for x in range(len(container)):\n",
        "\n",
        "            # grab the title\n",
        "            try:\n",
        "                title = container[x].find_element_by_xpath(\".//div[contains(@data-test-target, 'review-title')]\").text\n",
        "            except (NoSuchElementException) as err:\n",
        "                title = \"NA\"\n",
        "\n",
        "            # grab the review\n",
        "            try:\n",
        "                review = container[x].find_element_by_xpath(\".//span[@class='QewHA H4 _a']\").text\n",
        "            except (NoSuchElementException) as err:\n",
        "                review = \"NA\"\n",
        "\n",
        "            # grab the date\n",
        "            try:\n",
        "                date = container[x].find_element_by_xpath(\".//span[@class='teHYY _R Me S4 H3']\").text.partition(\":\")[2]\n",
        "            except (NoSuchElementException) as err:\n",
        "                date = \"NA\"\n",
        "\n",
        "            # grab the rating\n",
        "            try:\n",
        "                rating = container[x].find_element_by_xpath(\".//span[contains(@class, 'ui_bubble_rating bubble_')]\").get_attribute(\"class\").split(\"_\")[3]\n",
        "                rating = (int(rating))/10\n",
        "            except (NoSuchElementException) as err:\n",
        "                rating = \"NA\"\n",
        "\n",
        "            # grab the traveller type\n",
        "            try:\n",
        "                travelType = container[x].find_element_by_xpath(\".//span[@class='TDKzw _R Me']\").get_attribute(\"innerHTML\")\n",
        "                travelType = travelType.partition(\"n>\")[2]\n",
        "            except (NoSuchElementException) as err:\n",
        "                travelType = \"NA\"\n",
        "\n",
        "            # write review to csv\n",
        "            csvWriter.writerow([Hotel, title, review, date, rating, travelType])\n",
        "\n",
        "        #print(x, i)\n",
        "\n",
        "        # click next page once last review is processed\n",
        "        driver.find_element_by_xpath('.//a[@class=\"ui_button nav next primary \"]').click()\n",
        "\n",
        "    driver.quit()"
      ]
    },
    {
      "cell_type": "code",
      "execution_count": null,
      "id": "b09e7679",
      "metadata": {
        "id": "b09e7679"
      },
      "outputs": [],
      "source": [
        "# function for scraping hotels with less than 1000 reviews\n",
        "def hotel_scrape2(url_here):\n",
        "    # initiate driver\n",
        "    driver = webdriver.Chrome(ChromeDriverManager().install())\n",
        "    # Make a request to the website and get the object\n",
        "    driver.get(url_here)\n",
        "    # grab the hotel name\n",
        "    Hotel = driver.find_element_by_xpath(\".//h1[@class='QdLfr b d Pn']\").get_attribute(\"innerHTML\")\n",
        "    reviewCnt = driver.find_elements_by_xpath(\"//span[@class='POjZy']\")\n",
        "    reviewCnt2 = reviewCnt[1].get_attribute(\"innerHTML\").partition(\">\")[2].partition(\"<\")[0]\n",
        "    print(reviewCnt2)\n",
        "    reviewCnt3 = ((int(reviewCnt2))/10)-1\n",
        "    reviewCnt3 = math.floor(reviewCnt3)\n",
        "    # for each page loop\n",
        "    i = 0\n",
        "    for i in range(reviewCnt3):\n",
        "        time.sleep(1)\n",
        "\n",
        "        # expand the review\n",
        "        expander = WebDriverWait(driver, 120).until(\n",
        "            EC.element_to_be_clickable(\n",
        "                (By.XPATH, \".//span[(@class='Ignyf _S Z')]\")))\n",
        "        expander.click()\n",
        "\n",
        "        # grab the number of reviews displayed on page\n",
        "#         time.sleep(3)\n",
        "        #container = driver.find_elements_by_xpath(\"//div[@data-reviewid]\")\n",
        "        container = driver.find_elements_by_xpath(\"//div[@class='WAllg _T']\")\n",
        "\n",
        "        x = 0\n",
        "        for x in range(len(container)):\n",
        "\n",
        "            # grab the title\n",
        "            try:\n",
        "                title = container[x].find_element_by_xpath(\".//div[contains(@data-test-target, 'review-title')]\").text\n",
        "            except (NoSuchElementException) as err:\n",
        "                title = \"NA\"\n",
        "\n",
        "            # grab the review\n",
        "            try:\n",
        "                review = container[x].find_element_by_xpath(\".//span[@class='QewHA H4 _a']\").text\n",
        "            except (NoSuchElementException) as err:\n",
        "                review = \"NA\"\n",
        "\n",
        "            # grab the date\n",
        "            try:\n",
        "                date = container[x].find_element_by_xpath(\".//span[@class='teHYY _R Me S4 H3']\").text.partition(\":\")[2]\n",
        "            except (NoSuchElementException) as err:\n",
        "                date = \"NA\"\n",
        "\n",
        "            # grab the rating\n",
        "            try:\n",
        "                rating = container[x].find_element_by_xpath(\".//span[contains(@class, 'ui_bubble_rating bubble_')]\").get_attribute(\"class\").split(\"_\")[3]\n",
        "                rating = (int(rating))/10\n",
        "            except (NoSuchElementException) as err:\n",
        "                rating = \"NA\"\n",
        "\n",
        "            # grab the traveller type\n",
        "            try:\n",
        "                travelType = container[x].find_element_by_xpath(\".//span[@class='TDKzw _R Me']\").get_attribute(\"innerHTML\")\n",
        "                travelType = travelType.partition(\"n>\")[2]\n",
        "            except (NoSuchElementException) as err:\n",
        "                travelType = \"NA\"\n",
        "\n",
        "            # write review to csv\n",
        "            csvWriter.writerow([Hotel, title, review, date, rating, travelType])\n",
        "\n",
        "        #print(x, i)\n",
        "\n",
        "        # click next page once last review is processed\n",
        "        driver.find_element_by_xpath('.//a[@class=\"ui_button nav next primary \"]').click()\n",
        "\n",
        "    driver.quit()"
      ]
    },
    {
      "cell_type": "code",
      "execution_count": null,
      "id": "89089d0c",
      "metadata": {
        "scrolled": true,
        "id": "89089d0c",
        "outputId": "a491e932-4b9b-44d8-e5ff-2c0c6cf80dff"
      },
      "outputs": [
        {
          "name": "stdout",
          "output_type": "stream",
          "text": [
            "283\n",
            "0:01:20.708237 Wanderlust\n",
            "220\n",
            "0:01:06.602156 Aqueen Heritage Hotel Joo Chiat\n",
            "197\n",
            "0:00:55.346751 Hilton Singapore Orchard\n",
            "203\n",
            "0:01:03.705860 Vibe Hotel Singapore Orchard\n",
            "143\n",
            "0:00:46.155171 Ann Siang House\n",
            "153\n",
            "0:00:51.177735 KeSa House\n"
          ]
        }
      ],
      "source": [
        "# executing scraper function. if hotel has more than 1000 reviews, use hotel_scrape function\n",
        "for link in range(len(data)):\n",
        "    url = data[link][1]\n",
        "    hotel = data[link][0]\n",
        "    # start time\n",
        "    startTime = dt.now()\n",
        "    hotel_scrape2(url)\n",
        "    # finish time\n",
        "    endTime = dt.now()\n",
        "    timeTaken = endTime - startTime\n",
        "    print(timeTaken, hotel)\n",
        "    time.sleep(3)"
      ]
    },
    {
      "cell_type": "code",
      "execution_count": null,
      "id": "e6919ed6",
      "metadata": {
        "id": "e6919ed6"
      },
      "outputs": [],
      "source": []
    },
    {
      "cell_type": "code",
      "execution_count": null,
      "id": "7bdd0e79",
      "metadata": {
        "id": "7bdd0e79"
      },
      "outputs": [],
      "source": []
    },
    {
      "cell_type": "code",
      "execution_count": null,
      "id": "c067b75b",
      "metadata": {
        "id": "c067b75b"
      },
      "outputs": [],
      "source": []
    },
    {
      "cell_type": "code",
      "execution_count": null,
      "id": "b3de45e4",
      "metadata": {
        "id": "b3de45e4"
      },
      "outputs": [],
      "source": []
    },
    {
      "cell_type": "code",
      "execution_count": null,
      "id": "88b0c347",
      "metadata": {
        "id": "88b0c347"
      },
      "outputs": [],
      "source": []
    },
    {
      "cell_type": "code",
      "execution_count": null,
      "id": "a1c22deb",
      "metadata": {
        "id": "a1c22deb"
      },
      "outputs": [],
      "source": []
    }
  ],
  "metadata": {
    "kernelspec": {
      "display_name": "Python 3 (ipykernel)",
      "language": "python",
      "name": "python3"
    },
    "language_info": {
      "codemirror_mode": {
        "name": "ipython",
        "version": 3
      },
      "file_extension": ".py",
      "mimetype": "text/x-python",
      "name": "python",
      "nbconvert_exporter": "python",
      "pygments_lexer": "ipython3",
      "version": "3.9.13"
    },
    "colab": {
      "provenance": []
    }
  },
  "nbformat": 4,
  "nbformat_minor": 5
}